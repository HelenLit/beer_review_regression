{
 "cells": [
  {
   "cell_type": "markdown",
   "id": "7a4efdd1236ab11b",
   "metadata": {
    "collapsed": false
   },
   "source": [
    "# In this notebook I will load my model and evaluate it with a new input"
   ]
  },
  {
   "cell_type": "code",
   "id": "39675b3dfca82a44",
   "metadata": {
    "collapsed": false,
    "ExecuteTime": {
     "end_time": "2024-05-03T12:06:31.861342Z",
     "start_time": "2024-05-03T12:06:29.068580Z"
    }
   },
   "source": [
    "from sklearn.metrics import mean_squared_error"
   ],
   "outputs": [],
   "execution_count": 1
  },
  {
   "cell_type": "markdown",
   "id": "bf70732fc6f7d6b1",
   "metadata": {
    "collapsed": false
   },
   "source": [
    "<hr>\n",
    "\n",
    "## Functions that I'll use in this notebook"
   ]
  },
  {
   "cell_type": "code",
   "id": "a801940a7797bc7f",
   "metadata": {
    "collapsed": false,
    "ExecuteTime": {
     "end_time": "2024-05-03T12:06:33.602889Z",
     "start_time": "2024-05-03T12:06:31.862451Z"
    }
   },
   "source": [
    "from myfunctions import *"
   ],
   "outputs": [],
   "execution_count": 2
  },
  {
   "cell_type": "markdown",
   "id": "b62c23d9be6a0ea6",
   "metadata": {
    "collapsed": false
   },
   "source": [
    "### Read the new input dataset\n"
   ]
  },
  {
   "cell_type": "code",
   "id": "c40c0b810d8b5cc5",
   "metadata": {
    "collapsed": false,
    "ExecuteTime": {
     "end_time": "2024-05-03T12:06:33.605534Z",
     "start_time": "2024-05-03T12:06:33.603610Z"
    }
   },
   "source": [
    "DATASET_PATH = \"../data/new_input.csv\""
   ],
   "outputs": [],
   "execution_count": 3
  },
  {
   "cell_type": "code",
   "id": "da9b6bd99f5ed64e",
   "metadata": {
    "collapsed": false,
    "ExecuteTime": {
     "end_time": "2024-05-03T12:06:33.608932Z",
     "start_time": "2024-05-03T12:06:33.606509Z"
    }
   },
   "source": [
    "print(os.path.exists(DATASET_PATH))"
   ],
   "outputs": [
    {
     "name": "stdout",
     "output_type": "stream",
     "text": [
      "True\n"
     ]
    }
   ],
   "execution_count": 4
  },
  {
   "cell_type": "code",
   "id": "a63b02e4efb1a3a7",
   "metadata": {
    "collapsed": false,
    "ExecuteTime": {
     "end_time": "2024-05-03T12:06:33.615902Z",
     "start_time": "2024-05-03T12:06:33.610964Z"
    }
   },
   "source": [
    "# Load the data  \n",
    "ds_new = pd.read_csv(DATASET_PATH) "
   ],
   "outputs": [],
   "execution_count": 5
  },
  {
   "cell_type": "code",
   "id": "c06eaec0",
   "metadata": {
    "ExecuteTime": {
     "end_time": "2024-05-03T12:06:33.635253Z",
     "start_time": "2024-05-03T12:06:33.616722Z"
    }
   },
   "source": [
    "ds_new.head()"
   ],
   "outputs": [
    {
     "data": {
      "text/plain": [
       "                           Name    Style  \\\n",
       "0                         Amber  Altbier   \n",
       "1                    Double Bag  Altbier   \n",
       "2                Long Trail Ale  Altbier   \n",
       "3                  Doppelsticke  Altbier   \n",
       "4  Sleigh'r Dark Doüble Alt Ale  Altbier   \n",
       "\n",
       "                                            Brewery  \\\n",
       "0                               Alaskan Brewing Co.   \n",
       "1                            Long Trail Brewing Co.   \n",
       "2                            Long Trail Brewing Co.   \n",
       "3  Uerige Obergärige Hausbrauerei GmbH / Zum Uerige   \n",
       "4                           Ninkasi Brewing Company   \n",
       "\n",
       "                                    Beer Name (Full)  \\\n",
       "0                  Alaskan Brewing Co. Alaskan Amber   \n",
       "1                  Long Trail Brewing Co. Double Bag   \n",
       "2              Long Trail Brewing Co. Long Trail Ale   \n",
       "3  Uerige Obergärige Hausbrauerei GmbH / Zum Ueri...   \n",
       "4  Ninkasi Brewing Company Sleigh'r Dark Doüble A...   \n",
       "\n",
       "                                         Description  ABV  Min IBU  Max IBU  \\\n",
       "0  Notes:Richly malty and long on the palate, wit...  5.3       25       50   \n",
       "1  Notes:This malty, full-bodied double alt is al...  7.2       25       50   \n",
       "2  Notes:Long Trail Ale is a full-bodied amber al...  5.0       25       50   \n",
       "3                                             Notes:  8.5       25       50   \n",
       "4  Notes:Called 'Dark Double Alt' on the label.Se...  7.2       25       50   \n",
       "\n",
       "   Astringency  Body  ...  Fruits  Hoppy  Spices  Malty  review_aroma  \\\n",
       "0           13    32  ...      33     57       8    111      3.498994   \n",
       "1           12    57  ...      24     35      12     84      3.798337   \n",
       "2           14    37  ...      10     54       4     62      3.409814   \n",
       "3           13    55  ...      49     40      16    119      4.148098   \n",
       "4           25    51  ...      11     51      20     95      3.625000   \n",
       "\n",
       "   review_appearance  review_palate  review_taste  review_overall  \\\n",
       "0           3.636821       3.556338      3.643863        3.847082   \n",
       "1           3.846154       3.904366      4.024948        4.034304   \n",
       "2           3.667109       3.600796      3.631300        3.830239   \n",
       "3           4.033967       4.150815      4.205163        4.005435   \n",
       "4           3.973958       3.734375      3.765625        3.817708   \n",
       "\n",
       "   number_of_reviews  \n",
       "0                497  \n",
       "1                481  \n",
       "2                377  \n",
       "3                368  \n",
       "4                 96  \n",
       "\n",
       "[5 rows x 25 columns]"
      ],
      "text/html": [
       "<div>\n",
       "<style scoped>\n",
       "    .dataframe tbody tr th:only-of-type {\n",
       "        vertical-align: middle;\n",
       "    }\n",
       "\n",
       "    .dataframe tbody tr th {\n",
       "        vertical-align: top;\n",
       "    }\n",
       "\n",
       "    .dataframe thead th {\n",
       "        text-align: right;\n",
       "    }\n",
       "</style>\n",
       "<table border=\"1\" class=\"dataframe\">\n",
       "  <thead>\n",
       "    <tr style=\"text-align: right;\">\n",
       "      <th></th>\n",
       "      <th>Name</th>\n",
       "      <th>Style</th>\n",
       "      <th>Brewery</th>\n",
       "      <th>Beer Name (Full)</th>\n",
       "      <th>Description</th>\n",
       "      <th>ABV</th>\n",
       "      <th>Min IBU</th>\n",
       "      <th>Max IBU</th>\n",
       "      <th>Astringency</th>\n",
       "      <th>Body</th>\n",
       "      <th>...</th>\n",
       "      <th>Fruits</th>\n",
       "      <th>Hoppy</th>\n",
       "      <th>Spices</th>\n",
       "      <th>Malty</th>\n",
       "      <th>review_aroma</th>\n",
       "      <th>review_appearance</th>\n",
       "      <th>review_palate</th>\n",
       "      <th>review_taste</th>\n",
       "      <th>review_overall</th>\n",
       "      <th>number_of_reviews</th>\n",
       "    </tr>\n",
       "  </thead>\n",
       "  <tbody>\n",
       "    <tr>\n",
       "      <th>0</th>\n",
       "      <td>Amber</td>\n",
       "      <td>Altbier</td>\n",
       "      <td>Alaskan Brewing Co.</td>\n",
       "      <td>Alaskan Brewing Co. Alaskan Amber</td>\n",
       "      <td>Notes:Richly malty and long on the palate, wit...</td>\n",
       "      <td>5.3</td>\n",
       "      <td>25</td>\n",
       "      <td>50</td>\n",
       "      <td>13</td>\n",
       "      <td>32</td>\n",
       "      <td>...</td>\n",
       "      <td>33</td>\n",
       "      <td>57</td>\n",
       "      <td>8</td>\n",
       "      <td>111</td>\n",
       "      <td>3.498994</td>\n",
       "      <td>3.636821</td>\n",
       "      <td>3.556338</td>\n",
       "      <td>3.643863</td>\n",
       "      <td>3.847082</td>\n",
       "      <td>497</td>\n",
       "    </tr>\n",
       "    <tr>\n",
       "      <th>1</th>\n",
       "      <td>Double Bag</td>\n",
       "      <td>Altbier</td>\n",
       "      <td>Long Trail Brewing Co.</td>\n",
       "      <td>Long Trail Brewing Co. Double Bag</td>\n",
       "      <td>Notes:This malty, full-bodied double alt is al...</td>\n",
       "      <td>7.2</td>\n",
       "      <td>25</td>\n",
       "      <td>50</td>\n",
       "      <td>12</td>\n",
       "      <td>57</td>\n",
       "      <td>...</td>\n",
       "      <td>24</td>\n",
       "      <td>35</td>\n",
       "      <td>12</td>\n",
       "      <td>84</td>\n",
       "      <td>3.798337</td>\n",
       "      <td>3.846154</td>\n",
       "      <td>3.904366</td>\n",
       "      <td>4.024948</td>\n",
       "      <td>4.034304</td>\n",
       "      <td>481</td>\n",
       "    </tr>\n",
       "    <tr>\n",
       "      <th>2</th>\n",
       "      <td>Long Trail Ale</td>\n",
       "      <td>Altbier</td>\n",
       "      <td>Long Trail Brewing Co.</td>\n",
       "      <td>Long Trail Brewing Co. Long Trail Ale</td>\n",
       "      <td>Notes:Long Trail Ale is a full-bodied amber al...</td>\n",
       "      <td>5.0</td>\n",
       "      <td>25</td>\n",
       "      <td>50</td>\n",
       "      <td>14</td>\n",
       "      <td>37</td>\n",
       "      <td>...</td>\n",
       "      <td>10</td>\n",
       "      <td>54</td>\n",
       "      <td>4</td>\n",
       "      <td>62</td>\n",
       "      <td>3.409814</td>\n",
       "      <td>3.667109</td>\n",
       "      <td>3.600796</td>\n",
       "      <td>3.631300</td>\n",
       "      <td>3.830239</td>\n",
       "      <td>377</td>\n",
       "    </tr>\n",
       "    <tr>\n",
       "      <th>3</th>\n",
       "      <td>Doppelsticke</td>\n",
       "      <td>Altbier</td>\n",
       "      <td>Uerige Obergärige Hausbrauerei GmbH / Zum Uerige</td>\n",
       "      <td>Uerige Obergärige Hausbrauerei GmbH / Zum Ueri...</td>\n",
       "      <td>Notes:</td>\n",
       "      <td>8.5</td>\n",
       "      <td>25</td>\n",
       "      <td>50</td>\n",
       "      <td>13</td>\n",
       "      <td>55</td>\n",
       "      <td>...</td>\n",
       "      <td>49</td>\n",
       "      <td>40</td>\n",
       "      <td>16</td>\n",
       "      <td>119</td>\n",
       "      <td>4.148098</td>\n",
       "      <td>4.033967</td>\n",
       "      <td>4.150815</td>\n",
       "      <td>4.205163</td>\n",
       "      <td>4.005435</td>\n",
       "      <td>368</td>\n",
       "    </tr>\n",
       "    <tr>\n",
       "      <th>4</th>\n",
       "      <td>Sleigh'r Dark Doüble Alt Ale</td>\n",
       "      <td>Altbier</td>\n",
       "      <td>Ninkasi Brewing Company</td>\n",
       "      <td>Ninkasi Brewing Company Sleigh'r Dark Doüble A...</td>\n",
       "      <td>Notes:Called 'Dark Double Alt' on the label.Se...</td>\n",
       "      <td>7.2</td>\n",
       "      <td>25</td>\n",
       "      <td>50</td>\n",
       "      <td>25</td>\n",
       "      <td>51</td>\n",
       "      <td>...</td>\n",
       "      <td>11</td>\n",
       "      <td>51</td>\n",
       "      <td>20</td>\n",
       "      <td>95</td>\n",
       "      <td>3.625000</td>\n",
       "      <td>3.973958</td>\n",
       "      <td>3.734375</td>\n",
       "      <td>3.765625</td>\n",
       "      <td>3.817708</td>\n",
       "      <td>96</td>\n",
       "    </tr>\n",
       "  </tbody>\n",
       "</table>\n",
       "<p>5 rows × 25 columns</p>\n",
       "</div>"
      ]
     },
     "execution_count": 6,
     "metadata": {},
     "output_type": "execute_result"
    }
   ],
   "execution_count": 6
  },
  {
   "cell_type": "code",
   "id": "cfb904a681198b5e",
   "metadata": {
    "collapsed": false,
    "ExecuteTime": {
     "end_time": "2024-05-03T12:06:33.638888Z",
     "start_time": "2024-05-03T12:06:33.636493Z"
    }
   },
   "source": [
    "ds_new.shape"
   ],
   "outputs": [
    {
     "data": {
      "text/plain": [
       "(319, 25)"
      ]
     },
     "execution_count": 7,
     "metadata": {},
     "output_type": "execute_result"
    }
   ],
   "execution_count": 7
  },
  {
   "cell_type": "markdown",
   "id": "dea1e2356ffa2262",
   "metadata": {
    "collapsed": false
   },
   "source": [
    "## Feature engineering "
   ]
  },
  {
   "cell_type": "code",
   "id": "6b498e4d7abda8c7",
   "metadata": {
    "collapsed": false,
    "ExecuteTime": {
     "end_time": "2024-05-03T12:06:33.644570Z",
     "start_time": "2024-05-03T12:06:33.639468Z"
    }
   },
   "source": [
    "cols_to_del = load_del_cols()"
   ],
   "outputs": [],
   "execution_count": 8
  },
  {
   "cell_type": "code",
   "id": "f426f54b216791d5",
   "metadata": {
    "collapsed": false,
    "ExecuteTime": {
     "end_time": "2024-05-03T12:06:33.648897Z",
     "start_time": "2024-05-03T12:06:33.645559Z"
    }
   },
   "source": [
    "print(\"Deleting columns:\\n\" + str(cols_to_del))"
   ],
   "outputs": [
    {
     "name": "stdout",
     "output_type": "stream",
     "text": [
      "Deleting columns:\n",
      "['Description', 'Name', 'Beer Name (Full)', 'Min IBU', 'Max IBU', 'number_of_reviews', 'review_aroma', 'review_appearance', 'review_palate', 'review_taste', 'Alcohol', 'Body', 'Bitter', 'Fruits', 'Brewery']\n"
     ]
    }
   ],
   "execution_count": 9
  },
  {
   "cell_type": "code",
   "id": "682f1582538769e6",
   "metadata": {
    "collapsed": false,
    "ExecuteTime": {
     "end_time": "2024-05-03T12:06:33.656156Z",
     "start_time": "2024-05-03T12:06:33.650708Z"
    }
   },
   "source": [
    "for col in cols_to_del:\n",
    "    drop_column(ds_new, col)"
   ],
   "outputs": [],
   "execution_count": 10
  },
  {
   "cell_type": "markdown",
   "id": "8fed7ec257cda9e3",
   "metadata": {
    "collapsed": false
   },
   "source": [
    "<hr>\n",
    "\n",
    "#### Outlier Engineering"
   ]
  },
  {
   "cell_type": "code",
   "id": "522d6f3949e65619",
   "metadata": {
    "collapsed": false,
    "ExecuteTime": {
     "end_time": "2024-05-03T12:06:33.662205Z",
     "start_time": "2024-05-03T12:06:33.656920Z"
    }
   },
   "source": [
    "# Load the outlier parameters  \n",
    "outlier_params = load_outliers() "
   ],
   "outputs": [],
   "execution_count": 11
  },
  {
   "cell_type": "code",
   "id": "7c917e39aa406d3b",
   "metadata": {
    "collapsed": false,
    "ExecuteTime": {
     "end_time": "2024-05-03T12:06:33.666027Z",
     "start_time": "2024-05-03T12:06:33.663178Z"
    }
   },
   "source": [
    "# Remove outliers from the new data  \n",
    "outlier_columns = outlier_params['columns']  \n",
    "threshold = outlier_params['threshold']\n",
    "print(f\"Columns with outliers:\\n{outlier_columns}\\n\\nThreshold: {threshold}\")"
   ],
   "outputs": [
    {
     "name": "stdout",
     "output_type": "stream",
     "text": [
      "Columns with outliers:\n",
      "['Sweet', 'Sour', 'Hoppy', 'Spices', 'Malty']\n",
      "\n",
      "Threshold: 4\n"
     ]
    }
   ],
   "execution_count": 12
  },
  {
   "cell_type": "code",
   "id": "7c2c60563d3085a",
   "metadata": {
    "collapsed": false,
    "ExecuteTime": {
     "end_time": "2024-05-03T12:06:34.078247Z",
     "start_time": "2024-05-03T12:06:33.666892Z"
    }
   },
   "source": [
    "diagnostic_plots(ds_new, 'Malty')"
   ],
   "outputs": [
    {
     "data": {
      "text/plain": [
       "<Figure size 1600x400 with 3 Axes>"
      ],
      "image/png": "[encoded data removed]"
     },
     "metadata": {},
     "output_type": "display_data"
    }
   ],
   "execution_count": 13
  },
  {
   "cell_type": "code",
   "id": "549ea8e4263b9223",
   "metadata": {
    "collapsed": false,
    "ExecuteTime": {
     "end_time": "2024-05-03T12:06:34.087477Z",
     "start_time": "2024-05-03T12:06:34.082028Z"
    }
   },
   "source": [
    "ds_new = ds_new[(np.abs(stats.zscore(ds_new[outlier_columns])) < threshold).all(axis=1)]  "
   ],
   "outputs": [],
   "execution_count": 14
  },
  {
   "cell_type": "code",
   "id": "1539e59fd0aecdbe",
   "metadata": {
    "collapsed": false,
    "ExecuteTime": {
     "end_time": "2024-05-03T12:06:34.283393Z",
     "start_time": "2024-05-03T12:06:34.088892Z"
    }
   },
   "source": [
    "diagnostic_plots(ds_new, 'Malty')"
   ],
   "outputs": [
    {
     "data": {
      "text/plain": [
       "<Figure size 1600x400 with 3 Axes>"
      ],
      "image/png": "[encoded data removed]"
     },
     "metadata": {},
     "output_type": "display_data"
    }
   ],
   "execution_count": 15
  },
  {
   "cell_type": "code",
   "id": "5cfaaf2dbdd1f77d",
   "metadata": {
    "collapsed": false,
    "ExecuteTime": {
     "end_time": "2024-05-03T12:06:34.289595Z",
     "start_time": "2024-05-03T12:06:34.285820Z"
    }
   },
   "source": [
    "ds_new.shape"
   ],
   "outputs": [
    {
     "data": {
      "text/plain": [
       "(316, 10)"
      ]
     },
     "execution_count": 16,
     "metadata": {},
     "output_type": "execute_result"
    }
   ],
   "execution_count": 16
  },
  {
   "cell_type": "markdown",
   "id": "10196dc322fd4170",
   "metadata": {
    "collapsed": false
   },
   "source": [
    "<hr>\n",
    "\n",
    "#### Categorical encoding"
   ]
  },
  {
   "cell_type": "code",
   "id": "dda676081d4cee2e",
   "metadata": {
    "collapsed": false,
    "ExecuteTime": {
     "end_time": "2024-05-03T12:06:34.298273Z",
     "start_time": "2024-05-03T12:06:34.291021Z"
    }
   },
   "source": [
    "encoding_map = load_categorical_encoding()"
   ],
   "outputs": [],
   "execution_count": 17
  },
  {
   "cell_type": "code",
   "id": "b68dbd6234664d2",
   "metadata": {
    "collapsed": false,
    "ExecuteTime": {
     "end_time": "2024-05-03T12:06:34.305340Z",
     "start_time": "2024-05-03T12:06:34.300705Z"
    }
   },
   "source": [
    "for column in encoding_map.keys():\n",
    "    ds_new.loc[:, column] = ds_new[column].map(encoding_map[column])  "
   ],
   "outputs": [],
   "execution_count": 18
  },
  {
   "cell_type": "markdown",
   "id": "8d7d65379c7a0833",
   "metadata": {
    "collapsed": false
   },
   "source": [
    "<hr>\n",
    "\n",
    "#### Normalisation"
   ]
  },
  {
   "cell_type": "code",
   "id": "47a326d0f7ddd800",
   "metadata": {
    "collapsed": false,
    "ExecuteTime": {
     "end_time": "2024-05-03T12:06:34.314536Z",
     "start_time": "2024-05-03T12:06:34.307175Z"
    }
   },
   "source": [
    "scaler = load_scaler()"
   ],
   "outputs": [],
   "execution_count": 19
  },
  {
   "cell_type": "code",
   "id": "4a3eb909ef51fedf",
   "metadata": {
    "collapsed": false,
    "ExecuteTime": {
     "end_time": "2024-05-03T12:06:34.319120Z",
     "start_time": "2024-05-03T12:06:34.315771Z"
    }
   },
   "source": [
    "# Specify the columns to scale (all columns except 'review_overall')  \n",
    "columns_to_scale = [col for col in ds_new.columns if col != 'review_overall']  "
   ],
   "outputs": [],
   "execution_count": 20
  },
  {
   "cell_type": "code",
   "id": "55810991842152bf",
   "metadata": {
    "collapsed": false,
    "ExecuteTime": {
     "end_time": "2024-05-03T12:06:34.323873Z",
     "start_time": "2024-05-03T12:06:34.320209Z"
    }
   },
   "source": [
    "ds_scaled = scaler.transform(ds_new[columns_to_scale]) "
   ],
   "outputs": [],
   "execution_count": 21
  },
  {
   "cell_type": "code",
   "id": "2fed24e1dcb1ec1a",
   "metadata": {
    "collapsed": false,
    "ExecuteTime": {
     "end_time": "2024-05-03T12:06:34.328362Z",
     "start_time": "2024-05-03T12:06:34.324838Z"
    }
   },
   "source": [
    "# Create a new DataFrame with the scaled data  \n",
    "df_scaled = pd.DataFrame(ds_scaled, columns=columns_to_scale)    "
   ],
   "outputs": [],
   "execution_count": 22
  },
  {
   "cell_type": "code",
   "id": "51fd72e4a16d70f9",
   "metadata": {
    "collapsed": false,
    "ExecuteTime": {
     "end_time": "2024-05-03T12:06:34.348186Z",
     "start_time": "2024-05-03T12:06:34.329490Z"
    }
   },
   "source": [
    "# Copy the 'review_overall' column from the original DataFrame  \n",
    "df_scaled['review_overall'] = ds_new['review_overall'].values  \n",
    "ds = df_scaled\n",
    "# Now df_scaled is a DataFrame with all columns scaled except 'class'  \n",
    "np.round(ds.describe(), 1)"
   ],
   "outputs": [
    {
     "data": {
      "text/plain": [
       "       Style    ABV  Astringency  Sweet   Sour  Salty  Hoppy  Spices  Malty  \\\n",
       "count   16.0  316.0        316.0  316.0  316.0  316.0  316.0   316.0  316.0   \n",
       "mean     0.0    0.3          0.2    0.4    0.2    0.0    0.4     0.1    0.4   \n",
       "std      0.0    0.2          0.1    0.2    0.1    0.0    0.2     0.1    0.2   \n",
       "min      0.0    0.1          0.0    0.0    0.0    0.0    0.0     0.0    0.0   \n",
       "25%      0.0    0.2          0.1    0.3    0.1    0.0    0.2     0.1    0.3   \n",
       "50%      0.0    0.2          0.2    0.4    0.2    0.0    0.4     0.1    0.4   \n",
       "75%      0.0    0.3          0.3    0.5    0.2    0.0    0.5     0.1    0.5   \n",
       "max      0.0    2.1          0.6    1.2    0.6    0.2    1.1     0.4    0.9   \n",
       "\n",
       "       review_overall  \n",
       "count           316.0  \n",
       "mean              3.8  \n",
       "std               0.3  \n",
       "min               2.8  \n",
       "25%               3.7  \n",
       "50%               3.8  \n",
       "75%               4.0  \n",
       "max               4.5  "
      ],
      "text/html": [
       "<div>\n",
       "<style scoped>\n",
       "    .dataframe tbody tr th:only-of-type {\n",
       "        vertical-align: middle;\n",
       "    }\n",
       "\n",
       "    .dataframe tbody tr th {\n",
       "        vertical-align: top;\n",
       "    }\n",
       "\n",
       "    .dataframe thead th {\n",
       "        text-align: right;\n",
       "    }\n",
       "</style>\n",
       "<table border=\"1\" class=\"dataframe\">\n",
       "  <thead>\n",
       "    <tr style=\"text-align: right;\">\n",
       "      <th></th>\n",
       "      <th>Style</th>\n",
       "      <th>ABV</th>\n",
       "      <th>Astringency</th>\n",
       "      <th>Sweet</th>\n",
       "      <th>Sour</th>\n",
       "      <th>Salty</th>\n",
       "      <th>Hoppy</th>\n",
       "      <th>Spices</th>\n",
       "      <th>Malty</th>\n",
       "      <th>review_overall</th>\n",
       "    </tr>\n",
       "  </thead>\n",
       "  <tbody>\n",
       "    <tr>\n",
       "      <th>count</th>\n",
       "      <td>16.0</td>\n",
       "      <td>316.0</td>\n",
       "      <td>316.0</td>\n",
       "      <td>316.0</td>\n",
       "      <td>316.0</td>\n",
       "      <td>316.0</td>\n",
       "      <td>316.0</td>\n",
       "      <td>316.0</td>\n",
       "      <td>316.0</td>\n",
       "      <td>316.0</td>\n",
       "    </tr>\n",
       "    <tr>\n",
       "      <th>mean</th>\n",
       "      <td>0.0</td>\n",
       "      <td>0.3</td>\n",
       "      <td>0.2</td>\n",
       "      <td>0.4</td>\n",
       "      <td>0.2</td>\n",
       "      <td>0.0</td>\n",
       "      <td>0.4</td>\n",
       "      <td>0.1</td>\n",
       "      <td>0.4</td>\n",
       "      <td>3.8</td>\n",
       "    </tr>\n",
       "    <tr>\n",
       "      <th>std</th>\n",
       "      <td>0.0</td>\n",
       "      <td>0.2</td>\n",
       "      <td>0.1</td>\n",
       "      <td>0.2</td>\n",
       "      <td>0.1</td>\n",
       "      <td>0.0</td>\n",
       "      <td>0.2</td>\n",
       "      <td>0.1</td>\n",
       "      <td>0.2</td>\n",
       "      <td>0.3</td>\n",
       "    </tr>\n",
       "    <tr>\n",
       "      <th>min</th>\n",
       "      <td>0.0</td>\n",
       "      <td>0.1</td>\n",
       "      <td>0.0</td>\n",
       "      <td>0.0</td>\n",
       "      <td>0.0</td>\n",
       "      <td>0.0</td>\n",
       "      <td>0.0</td>\n",
       "      <td>0.0</td>\n",
       "      <td>0.0</td>\n",
       "      <td>2.8</td>\n",
       "    </tr>\n",
       "    <tr>\n",
       "      <th>25%</th>\n",
       "      <td>0.0</td>\n",
       "      <td>0.2</td>\n",
       "      <td>0.1</td>\n",
       "      <td>0.3</td>\n",
       "      <td>0.1</td>\n",
       "      <td>0.0</td>\n",
       "      <td>0.2</td>\n",
       "      <td>0.1</td>\n",
       "      <td>0.3</td>\n",
       "      <td>3.7</td>\n",
       "    </tr>\n",
       "    <tr>\n",
       "      <th>50%</th>\n",
       "      <td>0.0</td>\n",
       "      <td>0.2</td>\n",
       "      <td>0.2</td>\n",
       "      <td>0.4</td>\n",
       "      <td>0.2</td>\n",
       "      <td>0.0</td>\n",
       "      <td>0.4</td>\n",
       "      <td>0.1</td>\n",
       "      <td>0.4</td>\n",
       "      <td>3.8</td>\n",
       "    </tr>\n",
       "    <tr>\n",
       "      <th>75%</th>\n",
       "      <td>0.0</td>\n",
       "      <td>0.3</td>\n",
       "      <td>0.3</td>\n",
       "      <td>0.5</td>\n",
       "      <td>0.2</td>\n",
       "      <td>0.0</td>\n",
       "      <td>0.5</td>\n",
       "      <td>0.1</td>\n",
       "      <td>0.5</td>\n",
       "      <td>4.0</td>\n",
       "    </tr>\n",
       "    <tr>\n",
       "      <th>max</th>\n",
       "      <td>0.0</td>\n",
       "      <td>2.1</td>\n",
       "      <td>0.6</td>\n",
       "      <td>1.2</td>\n",
       "      <td>0.6</td>\n",
       "      <td>0.2</td>\n",
       "      <td>1.1</td>\n",
       "      <td>0.4</td>\n",
       "      <td>0.9</td>\n",
       "      <td>4.5</td>\n",
       "    </tr>\n",
       "  </tbody>\n",
       "</table>\n",
       "</div>"
      ]
     },
     "execution_count": 23,
     "metadata": {},
     "output_type": "execute_result"
    }
   ],
   "execution_count": 23
  },
  {
   "cell_type": "markdown",
   "id": "fef6b06e7e311a32",
   "metadata": {
    "collapsed": false
   },
   "source": [
    "<hr>\n",
    "\n",
    "# Model import"
   ]
  },
  {
   "cell_type": "code",
   "id": "initial_id",
   "metadata": {
    "collapsed": true,
    "ExecuteTime": {
     "end_time": "2024-05-03T12:06:34.525272Z",
     "start_time": "2024-05-03T12:06:34.349996Z"
    }
   },
   "source": [
    "#from sklearn.ensemble import RandomForestClassifier  \n",
    "  \n",
    "# Load the model  \n",
    "model = load_model(\"../models/catBoostRegr.joblib\")  "
   ],
   "outputs": [],
   "execution_count": 24
  },
  {
   "cell_type": "code",
   "id": "85e65cf051c1a62a",
   "metadata": {
    "collapsed": false,
    "ExecuteTime": {
     "end_time": "2024-05-03T12:06:34.528358Z",
     "start_time": "2024-05-03T12:06:34.525982Z"
    }
   },
   "source": [
    "y_column = ds.columns[-1]\n",
    "X_columns = ds.columns[:-1]\n",
    "\n",
    "print(\"Target variable: \" + str(y_column))\n",
    "print(\"Features: \" + str(X_columns))"
   ],
   "outputs": [
    {
     "name": "stdout",
     "output_type": "stream",
     "text": [
      "Target variable: review_overall\n",
      "Features: Index(['Style', 'ABV', 'Astringency', 'Sweet', 'Sour', 'Salty', 'Hoppy',\n",
      "       'Spices', 'Malty'],\n",
      "      dtype='object')\n"
     ]
    }
   ],
   "execution_count": 25
  },
  {
   "cell_type": "code",
   "id": "19f6dab55ce3d322",
   "metadata": {
    "collapsed": false,
    "ExecuteTime": {
     "end_time": "2024-05-03T12:06:34.531005Z",
     "start_time": "2024-05-03T12:06:34.529149Z"
    }
   },
   "source": [
    "# Split the data into target variable and attributes  \n",
    "X = ds_new[X_columns]  \n",
    "y = ds_new[y_column]  "
   ],
   "outputs": [],
   "execution_count": 26
  },
  {
   "cell_type": "code",
   "id": "836b202d96e460eb",
   "metadata": {
    "collapsed": false,
    "ExecuteTime": {
     "end_time": "2024-05-03T12:06:34.537384Z",
     "start_time": "2024-05-03T12:06:34.531631Z"
    }
   },
   "source": [
    "# Use the model to predict the target variable  \n",
    "y_pred = model.predict(X)  \n",
    "  \n",
    "print('test set metrics: \\n', mean_squared_error(y, y_pred))"
   ],
   "outputs": [
    {
     "name": "stdout",
     "output_type": "stream",
     "text": [
      "test set metrics: \n",
      " 0.0819889600576484\n"
     ]
    }
   ],
   "execution_count": 27
  }
 ],
 "metadata": {
  "kernelspec": {
   "display_name": "Python 3",
   "language": "python",
   "name": "python3"
  },
  "language_info": {
   "codemirror_mode": {
    "name": "ipython",
    "version": 3
   },
   "file_extension": ".py",
   "mimetype": "text/x-python",
   "name": "python",
   "nbconvert_exporter": "python",
   "pygments_lexer": "ipython3",
   "version": "3.9.19"
  }
 },
 "nbformat": 4,
 "nbformat_minor": 5
}
