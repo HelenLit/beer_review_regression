{
 "cells": [
  {
   "cell_type": "markdown",
   "source": [
    "# In this notebook I will load my model and evaluate it with a new input"
   ],
   "metadata": {
    "collapsed": false
   },
   "id": "7a4efdd1236ab11b"
  },
  {
   "cell_type": "code",
   "execution_count": 34,
   "outputs": [],
   "source": [
    "import numpy as np\n",
    "from sklearn.metrics import classification_report"
   ],
   "metadata": {
    "collapsed": false,
    "ExecuteTime": {
     "end_time": "2024-04-18T18:39:02.868186800Z",
     "start_time": "2024-04-18T18:39:02.848179Z"
    }
   },
   "id": "39675b3dfca82a44"
  },
  {
   "cell_type": "markdown",
   "source": [
    "<hr>\n",
    "\n",
    "## Functions that I'll use in this notebook"
   ],
   "metadata": {
    "collapsed": false
   },
   "id": "bf70732fc6f7d6b1"
  },
  {
   "cell_type": "code",
   "execution_count": 2,
   "outputs": [],
   "source": [
    "from functions import *"
   ],
   "metadata": {
    "collapsed": false,
    "ExecuteTime": {
     "end_time": "2024-04-18T18:34:56.978607400Z",
     "start_time": "2024-04-18T18:34:54.296888500Z"
    }
   },
   "id": "a801940a7797bc7f"
  },
  {
   "cell_type": "markdown",
   "source": [
    "### Read the new input dataset\n"
   ],
   "metadata": {
    "collapsed": false
   },
   "id": "b62c23d9be6a0ea6"
  },
  {
   "cell_type": "code",
   "execution_count": 3,
   "outputs": [],
   "source": [
    "DATASET_PATH = \"../dataset/new_input.csv\"\n"
   ],
   "metadata": {
    "collapsed": false,
    "ExecuteTime": {
     "end_time": "2024-04-18T18:34:56.988597900Z",
     "start_time": "2024-04-18T18:34:56.978607400Z"
    }
   },
   "id": "c40c0b810d8b5cc5"
  },
  {
   "cell_type": "code",
   "execution_count": 4,
   "outputs": [
    {
     "name": "stdout",
     "output_type": "stream",
     "text": [
      "True\n"
     ]
    }
   ],
   "source": [
    "print(os.path.exists(DATASET_PATH))"
   ],
   "metadata": {
    "collapsed": false,
    "ExecuteTime": {
     "end_time": "2024-04-18T18:34:56.998595300Z",
     "start_time": "2024-04-18T18:34:56.988597900Z"
    }
   },
   "id": "da9b6bd99f5ed64e"
  },
  {
   "cell_type": "code",
   "execution_count": 5,
   "outputs": [],
   "source": [
    "# Load the data  \n",
    "ds_new = pd.read_csv(DATASET_PATH) "
   ],
   "metadata": {
    "collapsed": false,
    "ExecuteTime": {
     "end_time": "2024-04-18T18:34:57.038604700Z",
     "start_time": "2024-04-18T18:34:56.998595300Z"
    }
   },
   "id": "a63b02e4efb1a3a7"
  },
  {
   "cell_type": "code",
   "execution_count": 6,
   "outputs": [
    {
     "data": {
      "text/plain": "(610, 22)"
     },
     "execution_count": 6,
     "metadata": {},
     "output_type": "execute_result"
    }
   ],
   "source": [
    "ds_new.shape"
   ],
   "metadata": {
    "collapsed": false,
    "ExecuteTime": {
     "end_time": "2024-04-18T18:34:57.038604700Z",
     "start_time": "2024-04-18T18:34:57.018603700Z"
    }
   },
   "id": "cfb904a681198b5e"
  },
  {
   "cell_type": "markdown",
   "source": [
    "## Feature engineering "
   ],
   "metadata": {
    "collapsed": false
   },
   "id": "dea1e2356ffa2262"
  },
  {
   "cell_type": "code",
   "execution_count": 7,
   "outputs": [],
   "source": [
    "cols_to_del = load_del_cols()"
   ],
   "metadata": {
    "collapsed": false,
    "ExecuteTime": {
     "end_time": "2024-04-18T18:34:59.662255900Z",
     "start_time": "2024-04-18T18:34:59.612238400Z"
    }
   },
   "id": "6b498e4d7abda8c7"
  },
  {
   "cell_type": "code",
   "execution_count": 9,
   "outputs": [
    {
     "name": "stdout",
     "output_type": "stream",
     "text": [
      "Deleting columns:\n",
      "['stem-root', 'veil-type', 'veil-color', 'spore-print-color', 'Unnamed: 0']\n"
     ]
    }
   ],
   "source": [
    "print(\"Deleting columns:\\n\" + str(cols_to_del))"
   ],
   "metadata": {
    "collapsed": false,
    "ExecuteTime": {
     "end_time": "2024-04-18T18:35:13.491412700Z",
     "start_time": "2024-04-18T18:35:13.471412200Z"
    }
   },
   "id": "f426f54b216791d5"
  },
  {
   "cell_type": "code",
   "execution_count": 10,
   "outputs": [],
   "source": [
    "for col in cols_to_del:\n",
    "    drop_column(ds_new, col)"
   ],
   "metadata": {
    "collapsed": false,
    "ExecuteTime": {
     "end_time": "2024-04-18T18:35:15.207502100Z",
     "start_time": "2024-04-18T18:35:15.187278800Z"
    }
   },
   "id": "682f1582538769e6"
  },
  {
   "cell_type": "code",
   "execution_count": 11,
   "outputs": [],
   "source": [
    "modes_dict = load_modes_dict()\n",
    "arbs_dict = load_arbs_dict()\n",
    "rand_list = load_rand_col_list()"
   ],
   "metadata": {
    "collapsed": false,
    "ExecuteTime": {
     "end_time": "2024-04-18T18:35:20.217739700Z",
     "start_time": "2024-04-18T18:35:20.177717Z"
    }
   },
   "id": "43435985a4820b53"
  },
  {
   "cell_type": "code",
   "execution_count": 13,
   "outputs": [
    {
     "name": "stdout",
     "output_type": "stream",
     "text": [
      "Modes imputation:\n",
      "{'ring-type': ['f']}\n",
      "\n",
      "Arbitrary imputation:\n",
      "{'cap-surface': 'missing', 'gill-attachment': 'missing', 'stem-surface': 'missing'}\n",
      "\n",
      "Random imputation:\n",
      "['gill-spacing']\n"
     ]
    }
   ],
   "source": [
    "print(\"Modes imputation:\\n\" + str(modes_dict))\n",
    "print(\"\\nArbitrary imputation:\\n\" + str(arbs_dict))\n",
    "print(\"\\nRandom imputation:\\n\" + str(rand_list))"
   ],
   "metadata": {
    "collapsed": false,
    "ExecuteTime": {
     "end_time": "2024-04-18T18:35:36.908473500Z",
     "start_time": "2024-04-18T18:35:36.888456600Z"
    }
   },
   "id": "c45580745df9af84"
  },
  {
   "cell_type": "code",
   "execution_count": 15,
   "outputs": [
    {
     "data": {
      "text/plain": "['gill-spacing']"
     },
     "execution_count": 15,
     "metadata": {},
     "output_type": "execute_result"
    }
   ],
   "source": [
    "impute_by_dict(ds_new, modes_dict, is_category=True)\n",
    "impute_by_dict(ds_new, arbs_dict, is_category=True)\n",
    "impute_by_random(ds_new, rand_list)"
   ],
   "metadata": {
    "collapsed": false,
    "ExecuteTime": {
     "end_time": "2024-04-18T18:35:54.432048400Z",
     "start_time": "2024-04-18T18:35:54.382048900Z"
    }
   },
   "id": "2f51de4613b5d676"
  },
  {
   "cell_type": "markdown",
   "source": [
    "<hr>\n",
    "\n",
    "#### Outlier Engineering"
   ],
   "metadata": {
    "collapsed": false
   },
   "id": "8fed7ec257cda9e3"
  },
  {
   "cell_type": "code",
   "execution_count": 18,
   "outputs": [],
   "source": [
    "# Load the outlier parameters  \n",
    "outlier_params = load_outliers() "
   ],
   "metadata": {
    "collapsed": false,
    "ExecuteTime": {
     "end_time": "2024-04-18T18:36:49.597131800Z",
     "start_time": "2024-04-18T18:36:49.577136900Z"
    }
   },
   "id": "522d6f3949e65619"
  },
  {
   "cell_type": "code",
   "execution_count": 19,
   "outputs": [],
   "source": [
    "# Remove outliers from the new data  \n",
    "outlier_columns = outlier_params['columns']  \n",
    "threshold = outlier_params['threshold']"
   ],
   "metadata": {
    "collapsed": false,
    "ExecuteTime": {
     "end_time": "2024-04-18T18:36:50.844562700Z",
     "start_time": "2024-04-18T18:36:50.824556200Z"
    }
   },
   "id": "7c917e39aa406d3b"
  },
  {
   "cell_type": "code",
   "execution_count": 20,
   "outputs": [
    {
     "data": {
      "text/plain": "<Figure size 1600x400 with 3 Axes>",
      "image/png": "[encoded data removed]"
     },
     "metadata": {},
     "output_type": "display_data"
    }
   ],
   "source": [
    "diagnostic_plots(ds_new, 'stem-height')"
   ],
   "metadata": {
    "collapsed": false,
    "ExecuteTime": {
     "end_time": "2024-04-18T18:36:53.688840200Z",
     "start_time": "2024-04-18T18:36:53.387185700Z"
    }
   },
   "id": "7c2c60563d3085a"
  },
  {
   "cell_type": "code",
   "execution_count": 21,
   "outputs": [],
   "source": [
    "ds_new = ds_new[(np.abs(stats.zscore(ds_new[outlier_columns])) < threshold).all(axis=1)]  "
   ],
   "metadata": {
    "collapsed": false,
    "ExecuteTime": {
     "end_time": "2024-04-18T18:36:57.636534600Z",
     "start_time": "2024-04-18T18:36:57.616534400Z"
    }
   },
   "id": "549ea8e4263b9223"
  },
  {
   "cell_type": "code",
   "execution_count": 22,
   "outputs": [
    {
     "data": {
      "text/plain": "<Figure size 1600x400 with 3 Axes>",
      "image/png": "[encoded data removed]"
     },
     "metadata": {},
     "output_type": "display_data"
    }
   ],
   "source": [
    "diagnostic_plots(ds_new, 'stem-height')"
   ],
   "metadata": {
    "collapsed": false,
    "ExecuteTime": {
     "end_time": "2024-04-18T18:37:01.662928200Z",
     "start_time": "2024-04-18T18:37:01.381520700Z"
    }
   },
   "id": "1539e59fd0aecdbe"
  },
  {
   "cell_type": "code",
   "execution_count": 23,
   "outputs": [
    {
     "data": {
      "text/plain": "(598, 17)"
     },
     "execution_count": 23,
     "metadata": {},
     "output_type": "execute_result"
    }
   ],
   "source": [
    "ds_new.shape"
   ],
   "metadata": {
    "collapsed": false,
    "ExecuteTime": {
     "end_time": "2024-04-18T18:37:09.134739600Z",
     "start_time": "2024-04-18T18:37:09.114744900Z"
    }
   },
   "id": "5cfaaf2dbdd1f77d"
  },
  {
   "cell_type": "markdown",
   "source": [
    "<hr>\n",
    "\n",
    "#### Categorical encoding"
   ],
   "metadata": {
    "collapsed": false
   },
   "id": "10196dc322fd4170"
  },
  {
   "cell_type": "code",
   "execution_count": 24,
   "outputs": [],
   "source": [
    "encoding_map = load_categorical_encoding()"
   ],
   "metadata": {
    "collapsed": false,
    "ExecuteTime": {
     "end_time": "2024-04-18T18:37:17.405941Z",
     "start_time": "2024-04-18T18:37:17.375927400Z"
    }
   },
   "id": "dda676081d4cee2e"
  },
  {
   "cell_type": "code",
   "execution_count": null,
   "outputs": [],
   "source": [
    "for column in encoding_map.keys():\n",
    "    ds_new[column] = ds_new[column].map(encoding_map[column])"
   ],
   "metadata": {
    "collapsed": false
   },
   "id": "b68dbd6234664d2"
  },
  {
   "cell_type": "markdown",
   "source": [
    "<hr>\n",
    "\n",
    "#### Standardisation"
   ],
   "metadata": {
    "collapsed": false
   },
   "id": "8d7d65379c7a0833"
  },
  {
   "cell_type": "code",
   "execution_count": 25,
   "outputs": [],
   "source": [
    "scaler = load_scaler()"
   ],
   "metadata": {
    "collapsed": false,
    "ExecuteTime": {
     "end_time": "2024-04-18T18:37:31.243856500Z",
     "start_time": "2024-04-18T18:37:31.203850Z"
    }
   },
   "id": "47a326d0f7ddd800"
  },
  {
   "cell_type": "code",
   "execution_count": 26,
   "outputs": [],
   "source": [
    "# Specify the columns to scale (all columns except 'class')  \n",
    "columns_to_scale = [col for col in ds_new.columns if col != 'class']  "
   ],
   "metadata": {
    "collapsed": false,
    "ExecuteTime": {
     "end_time": "2024-04-18T18:37:33.249618900Z",
     "start_time": "2024-04-18T18:37:33.229613500Z"
    }
   },
   "id": "4a3eb909ef51fedf"
  },
  {
   "cell_type": "code",
   "execution_count": 27,
   "outputs": [],
   "source": [
    "ds_scaled = scaler.transform(ds_new[columns_to_scale]) "
   ],
   "metadata": {
    "collapsed": false,
    "ExecuteTime": {
     "end_time": "2024-04-18T18:37:37.520774900Z",
     "start_time": "2024-04-18T18:37:37.500766100Z"
    }
   },
   "id": "55810991842152bf"
  },
  {
   "cell_type": "code",
   "execution_count": 28,
   "outputs": [],
   "source": [
    "# Create a new DataFrame with the scaled data  \n",
    "df_scaled = pd.DataFrame(ds_scaled, columns=columns_to_scale)    "
   ],
   "metadata": {
    "collapsed": false,
    "ExecuteTime": {
     "end_time": "2024-04-18T18:37:38.922184800Z",
     "start_time": "2024-04-18T18:37:38.902190Z"
    }
   },
   "id": "2fed24e1dcb1ec1a"
  },
  {
   "cell_type": "code",
   "execution_count": 29,
   "outputs": [
    {
     "data": {
      "text/plain": "       cap-diameter  cap-shape  cap-surface  cap-color  does-bruise-or-bleed  \\\ncount         598.0      598.0        485.0      598.0                 598.0   \nmean           -0.0        0.0         -0.1       -0.0                  -0.0   \nstd             1.0        1.0          1.1        1.0                   1.0   \nmin            -1.5       -1.8         -1.9       -1.9                  -0.5   \n25%            -0.7       -0.9         -1.0       -0.3                  -0.5   \n50%            -0.1        0.5          0.5       -0.3                  -0.5   \n75%             0.5        0.9          0.9        1.2                  -0.5   \nmax             4.3        0.9          1.5        1.5                   2.1   \n\n       gill-attachment  gill-spacing  gill-color  stem-height  stem-width  \\\ncount            517.0         598.0       598.0        598.0       598.0   \nmean              -0.1           0.0         0.0          0.0        -0.0   \nstd                1.1           0.9         1.0          1.0         1.0   \nmin               -1.2          -0.6        -2.3         -2.2        -1.3   \n25%               -1.2          -0.6        -0.7         -0.6        -0.8   \n50%               -0.4          -0.6        -0.1         -0.2        -0.2   \n75%                1.2           0.9         0.8          0.5         0.5   \nmax                1.6           2.4         1.2          4.4         4.8   \n\n       stem-surface  stem-color  has-ring  ring-type  habitat  season  class  \ncount         237.0       598.0     598.0      598.0    598.0   598.0  598.0  \nmean           -0.0        -0.0       0.0        0.1      0.1     0.0    0.5  \nstd             1.6         0.9       1.0        1.1      1.0     1.0    0.5  \nmin            -3.3        -2.3      -0.6       -1.0     -0.5    -1.0    0.0  \n25%            -1.3        -0.7      -0.6       -0.3     -0.5    -1.0    0.0  \n50%             0.7         0.2      -0.6       -0.3     -0.5    -0.1    1.0  \n75%             1.3         0.8       1.2       -0.3      0.3     0.9    1.0  \nmax             2.0         1.1       1.7        3.9      5.0     1.8    1.0  ",
      "text/html": "<div>\n<style scoped>\n    .dataframe tbody tr th:only-of-type {\n        vertical-align: middle;\n    }\n\n    .dataframe tbody tr th {\n        vertical-align: top;\n    }\n\n    .dataframe thead th {\n        text-align: right;\n    }\n</style>\n<table border=\"1\" class=\"dataframe\">\n  <thead>\n    <tr style=\"text-align: right;\">\n      <th></th>\n      <th>cap-diameter</th>\n      <th>cap-shape</th>\n      <th>cap-surface</th>\n      <th>cap-color</th>\n      <th>does-bruise-or-bleed</th>\n      <th>gill-attachment</th>\n      <th>gill-spacing</th>\n      <th>gill-color</th>\n      <th>stem-height</th>\n      <th>stem-width</th>\n      <th>stem-surface</th>\n      <th>stem-color</th>\n      <th>has-ring</th>\n      <th>ring-type</th>\n      <th>habitat</th>\n      <th>season</th>\n      <th>class</th>\n    </tr>\n  </thead>\n  <tbody>\n    <tr>\n      <th>count</th>\n      <td>598.0</td>\n      <td>598.0</td>\n      <td>485.0</td>\n      <td>598.0</td>\n      <td>598.0</td>\n      <td>517.0</td>\n      <td>598.0</td>\n      <td>598.0</td>\n      <td>598.0</td>\n      <td>598.0</td>\n      <td>237.0</td>\n      <td>598.0</td>\n      <td>598.0</td>\n      <td>598.0</td>\n      <td>598.0</td>\n      <td>598.0</td>\n      <td>598.0</td>\n    </tr>\n    <tr>\n      <th>mean</th>\n      <td>-0.0</td>\n      <td>0.0</td>\n      <td>-0.1</td>\n      <td>-0.0</td>\n      <td>-0.0</td>\n      <td>-0.1</td>\n      <td>0.0</td>\n      <td>0.0</td>\n      <td>0.0</td>\n      <td>-0.0</td>\n      <td>-0.0</td>\n      <td>-0.0</td>\n      <td>0.0</td>\n      <td>0.1</td>\n      <td>0.1</td>\n      <td>0.0</td>\n      <td>0.5</td>\n    </tr>\n    <tr>\n      <th>std</th>\n      <td>1.0</td>\n      <td>1.0</td>\n      <td>1.1</td>\n      <td>1.0</td>\n      <td>1.0</td>\n      <td>1.1</td>\n      <td>0.9</td>\n      <td>1.0</td>\n      <td>1.0</td>\n      <td>1.0</td>\n      <td>1.6</td>\n      <td>0.9</td>\n      <td>1.0</td>\n      <td>1.1</td>\n      <td>1.0</td>\n      <td>1.0</td>\n      <td>0.5</td>\n    </tr>\n    <tr>\n      <th>min</th>\n      <td>-1.5</td>\n      <td>-1.8</td>\n      <td>-1.9</td>\n      <td>-1.9</td>\n      <td>-0.5</td>\n      <td>-1.2</td>\n      <td>-0.6</td>\n      <td>-2.3</td>\n      <td>-2.2</td>\n      <td>-1.3</td>\n      <td>-3.3</td>\n      <td>-2.3</td>\n      <td>-0.6</td>\n      <td>-1.0</td>\n      <td>-0.5</td>\n      <td>-1.0</td>\n      <td>0.0</td>\n    </tr>\n    <tr>\n      <th>25%</th>\n      <td>-0.7</td>\n      <td>-0.9</td>\n      <td>-1.0</td>\n      <td>-0.3</td>\n      <td>-0.5</td>\n      <td>-1.2</td>\n      <td>-0.6</td>\n      <td>-0.7</td>\n      <td>-0.6</td>\n      <td>-0.8</td>\n      <td>-1.3</td>\n      <td>-0.7</td>\n      <td>-0.6</td>\n      <td>-0.3</td>\n      <td>-0.5</td>\n      <td>-1.0</td>\n      <td>0.0</td>\n    </tr>\n    <tr>\n      <th>50%</th>\n      <td>-0.1</td>\n      <td>0.5</td>\n      <td>0.5</td>\n      <td>-0.3</td>\n      <td>-0.5</td>\n      <td>-0.4</td>\n      <td>-0.6</td>\n      <td>-0.1</td>\n      <td>-0.2</td>\n      <td>-0.2</td>\n      <td>0.7</td>\n      <td>0.2</td>\n      <td>-0.6</td>\n      <td>-0.3</td>\n      <td>-0.5</td>\n      <td>-0.1</td>\n      <td>1.0</td>\n    </tr>\n    <tr>\n      <th>75%</th>\n      <td>0.5</td>\n      <td>0.9</td>\n      <td>0.9</td>\n      <td>1.2</td>\n      <td>-0.5</td>\n      <td>1.2</td>\n      <td>0.9</td>\n      <td>0.8</td>\n      <td>0.5</td>\n      <td>0.5</td>\n      <td>1.3</td>\n      <td>0.8</td>\n      <td>1.2</td>\n      <td>-0.3</td>\n      <td>0.3</td>\n      <td>0.9</td>\n      <td>1.0</td>\n    </tr>\n    <tr>\n      <th>max</th>\n      <td>4.3</td>\n      <td>0.9</td>\n      <td>1.5</td>\n      <td>1.5</td>\n      <td>2.1</td>\n      <td>1.6</td>\n      <td>2.4</td>\n      <td>1.2</td>\n      <td>4.4</td>\n      <td>4.8</td>\n      <td>2.0</td>\n      <td>1.1</td>\n      <td>1.7</td>\n      <td>3.9</td>\n      <td>5.0</td>\n      <td>1.8</td>\n      <td>1.0</td>\n    </tr>\n  </tbody>\n</table>\n</div>"
     },
     "execution_count": 29,
     "metadata": {},
     "output_type": "execute_result"
    }
   ],
   "source": [
    "# Copy the 'class' column from the original DataFrame  \n",
    "df_scaled['class'] = ds_new['class'].values  \n",
    "ds = df_scaled\n",
    "# Now df_scaled is a DataFrame with all columns scaled except 'class'  \n",
    "np.round(ds.describe(), 1)"
   ],
   "metadata": {
    "collapsed": false,
    "ExecuteTime": {
     "end_time": "2024-04-18T18:37:41.525673700Z",
     "start_time": "2024-04-18T18:37:41.475665Z"
    }
   },
   "id": "51fd72e4a16d70f9"
  },
  {
   "cell_type": "markdown",
   "source": [
    "<hr>\n",
    "\n",
    "# Model import"
   ],
   "metadata": {
    "collapsed": false
   },
   "id": "fef6b06e7e311a32"
  },
  {
   "cell_type": "code",
   "execution_count": 30,
   "id": "initial_id",
   "metadata": {
    "collapsed": true,
    "ExecuteTime": {
     "end_time": "2024-04-18T18:37:51.213205800Z",
     "start_time": "2024-04-18T18:37:51.057594800Z"
    }
   },
   "outputs": [],
   "source": [
    "#from sklearn.ensemble import RandomForestClassifier  \n",
    "  \n",
    "# Load the model  \n",
    "model = load_model(\"../models/RF_Classifier.joblib\")  "
   ]
  },
  {
   "cell_type": "code",
   "execution_count": 31,
   "outputs": [],
   "source": [
    "# Define the columns  \n",
    "y_column = ['class'] # target variable  \n",
    "X_columns = [\"cap-color\",  \n",
    "            \"ring-type\",  \n",
    "            \"cap-surface\",  \n",
    "            \"gill-attachment\",  \n",
    "            \"stem-surface\",  \n",
    "            \"gill-spacing\",  \n",
    "            \"cap-shape\",  \n",
    "            \"does-bruise-or-bleed\",  \n",
    "            \"gill-color\",  \n",
    "            \"stem-color\",  \n",
    "            \"has-ring\",  \n",
    "            \"habitat\",  \n",
    "            \"season\",  \n",
    "            'stem-height',  \n",
    "             'stem-width',  \n",
    "             'cap-diameter',  \n",
    "             ]   "
   ],
   "metadata": {
    "collapsed": false,
    "ExecuteTime": {
     "end_time": "2024-04-18T18:37:58.522620800Z",
     "start_time": "2024-04-18T18:37:58.502617900Z"
    }
   },
   "id": "85e65cf051c1a62a"
  },
  {
   "cell_type": "code",
   "execution_count": 32,
   "outputs": [],
   "source": [
    "# Split the data into target variable and attributes  \n",
    "X = ds_new[X_columns]  \n",
    "y = ds_new[y_column]  "
   ],
   "metadata": {
    "collapsed": false,
    "ExecuteTime": {
     "end_time": "2024-04-18T18:38:01.000490200Z",
     "start_time": "2024-04-18T18:38:00.990489700Z"
    }
   },
   "id": "19f6dab55ce3d322"
  },
  {
   "cell_type": "code",
   "execution_count": 35,
   "outputs": [
    {
     "name": "stdout",
     "output_type": "stream",
     "text": [
      "test set metrics: \n",
      "               precision    recall  f1-score   support\n",
      "\n",
      "           0       0.51      0.66      0.58       273\n",
      "           1       0.62      0.48      0.54       325\n",
      "\n",
      "    accuracy                           0.56       598\n",
      "   macro avg       0.57      0.57      0.56       598\n",
      "weighted avg       0.57      0.56      0.56       598\n"
     ]
    }
   ],
   "source": [
    "# Use the model to predict the target variable  \n",
    "y_pred = model.predict(X)  \n",
    "  \n",
    "print('test set metrics: \\n', classification_report(y, y_pred))"
   ],
   "metadata": {
    "collapsed": false,
    "ExecuteTime": {
     "end_time": "2024-04-18T18:39:08.705414500Z",
     "start_time": "2024-04-18T18:39:08.675402800Z"
    }
   },
   "id": "836b202d96e460eb"
  }
 ],
 "metadata": {
  "kernelspec": {
   "display_name": "Python 3",
   "language": "python",
   "name": "python3"
  },
  "language_info": {
   "codemirror_mode": {
    "name": "ipython",
    "version": 2
   },
   "file_extension": ".py",
   "mimetype": "text/x-python",
   "name": "python",
   "nbconvert_exporter": "python",
   "pygments_lexer": "ipython2",
   "version": "2.7.6"
  }
 },
 "nbformat": 4,
 "nbformat_minor": 5
}
